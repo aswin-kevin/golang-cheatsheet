{
 "cells": [
  {
   "attachments": {},
   "cell_type": "markdown",
   "metadata": {},
   "source": [
    "### basic syntax in go"
   ]
  },
  {
   "cell_type": "code",
   "execution_count": null,
   "metadata": {},
   "outputs": [],
   "source": [
    "package main ## package name\n",
    "\n",
    "import \"fmt\" ## importing module name , sometimes you need to give full path\n",
    "\n",
    "## function to print hello world\n",
    "func main(){\n",
    "\tfmt.Println(\"Hi , hello all :)\")\n",
    "}"
   ]
  },
  {
   "attachments": {},
   "cell_type": "markdown",
   "metadata": {},
   "source": [
    "### importing modules"
   ]
  },
  {
   "cell_type": "code",
   "execution_count": null,
   "metadata": {},
   "outputs": [],
   "source": [
    "## if the module is under a folder called \"addition\"\n",
    "\n",
    "package main\n",
    "\n",
    "import (\n",
    "\t\"fmt\"\n",
    "\t\"snippets/addition\"\n",
    ")\n",
    "\n",
    "func main(){\n",
    "\tfmt.Println(\"Hi , hello all :)\")\n",
    "\tres := addition.Add(12,45)\n",
    "\tfmt.Println(\"result is\", res)\n",
    "}"
   ]
  },
  {
   "attachments": {},
   "cell_type": "markdown",
   "metadata": {},
   "source": [
    "## if else statements"
   ]
  },
  {
   "cell_type": "code",
   "execution_count": null,
   "metadata": {},
   "outputs": [],
   "source": [
    "package checktype\n",
    "\n",
    "func CheckAnimal(sound string) string {\n",
    "\tif sound == \"maa\" {\n",
    "\t\treturn \"cow\"\n",
    "\t} else if sound == \"meow\" {\n",
    "\t\treturn \"cat\"\n",
    "\t} else {\n",
    "\t\treturn \"nothing\"\n",
    "\t}\n",
    "}"
   ]
  },
  {
   "cell_type": "code",
   "execution_count": null,
   "metadata": {},
   "outputs": [],
   "source": []
  },
  {
   "cell_type": "code",
   "execution_count": null,
   "metadata": {},
   "outputs": [],
   "source": []
  },
  {
   "cell_type": "code",
   "execution_count": null,
   "metadata": {},
   "outputs": [],
   "source": []
  },
  {
   "cell_type": "code",
   "execution_count": null,
   "metadata": {},
   "outputs": [],
   "source": []
  },
  {
   "cell_type": "code",
   "execution_count": null,
   "metadata": {},
   "outputs": [],
   "source": []
  }
 ],
 "metadata": {
  "kernelspec": {
   "display_name": "Python 3",
   "language": "python",
   "name": "python3"
  },
  "language_info": {
   "codemirror_mode": {
    "name": "ipython",
    "version": 3
   },
   "file_extension": ".py",
   "mimetype": "text/x-python",
   "name": "python",
   "nbconvert_exporter": "python",
   "pygments_lexer": "ipython3",
   "version": "3.7.9"
  },
  "orig_nbformat": 4,
  "vscode": {
   "interpreter": {
    "hash": "c95ce671dc85a02f7dcb4a82e6ee0dd46a02f5d9b011cb4af12808a4af6c4059"
   }
  }
 },
 "nbformat": 4,
 "nbformat_minor": 2
}

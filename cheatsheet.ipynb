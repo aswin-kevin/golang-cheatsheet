{
 "cells": [
  {
   "attachments": {},
   "cell_type": "markdown",
   "metadata": {},
   "source": [
    "### basic syntax in go"
   ]
  },
  {
   "cell_type": "code",
   "execution_count": null,
   "metadata": {},
   "outputs": [],
   "source": [
    "package main ## package name\n",
    "\n",
    "import \"fmt\" ## importing module name , sometimes you need to give full path\n",
    "\n",
    "## function to print hello world\n",
    "func main(){\n",
    "\tfmt.Println(\"Hi , hello all :)\")\n",
    "}"
   ]
  },
  {
   "attachments": {},
   "cell_type": "markdown",
   "metadata": {},
   "source": [
    "### importing modules"
   ]
  },
  {
   "cell_type": "code",
   "execution_count": null,
   "metadata": {},
   "outputs": [],
   "source": [
    "## if the module is under a folder called \"addition\"\n",
    "\n",
    "package main\n",
    "\n",
    "import (\n",
    "\t\"fmt\"\n",
    "\t\"snippets/addition\"\n",
    ")\n",
    "\n",
    "func main(){\n",
    "\tfmt.Println(\"Hi , hello all :)\")\n",
    "\tres := addition.Add(12,45)\n",
    "\tfmt.Println(\"result is\", res)\n",
    "}"
   ]
  },
  {
   "attachments": {},
   "cell_type": "markdown",
   "metadata": {},
   "source": [
    "### Declaring and initializing data types"
   ]
  },
  {
   "cell_type": "code",
   "execution_count": null,
   "metadata": {},
   "outputs": [],
   "source": [
    "## syntax\n",
    "var name type = expression\n",
    "\n",
    "## Example\n",
    "var s string = \"Canada\"\n",
    "\n",
    "\n",
    "### shortcut to decalre and assign variable\n",
    "s := \"Canada\"\n",
    "\n",
    "\n",
    "### values of declared variables\n",
    "var i int      ## this should be 0\n",
    "var s string   ## this should be empty string\n",
    "\n",
    "\n",
    "### declaring multiple variables\n",
    "var fname, lname string = \"John\", \"Doe\"\n",
    "m, n, o := 1, 2, 3\n",
    "item, price := \"Mobile\", 2000\n",
    "\n",
    "\n",
    "### variable declaration block\n",
    "var (\n",
    "\tproduct  = \"Mobile\"\n",
    "\tquantity = 50\n",
    "\tprice    = 50.50\n",
    "\tinStock  = true\n",
    ")"
   ]
  },
  {
   "attachments": {},
   "cell_type": "markdown",
   "metadata": {},
   "source": [
    "### To get type of a variable"
   ]
  },
  {
   "cell_type": "code",
   "execution_count": null,
   "metadata": {},
   "outputs": [],
   "source": [
    "package main\n",
    "\n",
    "import (\n",
    "\t\"fmt\"\n",
    "\t\"reflect\"\n",
    ")\n",
    "\n",
    "func main() {\n",
    "\tvar i = 10\n",
    "\tvar s = \"Canada\"\n",
    "\n",
    "\tfmt.Println(reflect.TypeOf(i))\n",
    "\tfmt.Println(reflect.TypeOf(s))\n",
    "\tfmt.Println(reflect.ValueOf(s).Kind())\n",
    "}"
   ]
  },
  {
   "attachments": {},
   "cell_type": "markdown",
   "metadata": {},
   "source": [
    "### constant type"
   ]
  },
  {
   "cell_type": "code",
   "execution_count": null,
   "metadata": {},
   "outputs": [],
   "source": [
    "### you cannot change the value\n",
    "const PRODUCT string = \"Canada\"\n",
    "const PRICE = 500\n",
    "\n",
    "\n",
    "const (\n",
    "\tPRODUCT  = \"Mobile\"\n",
    "\tQUANTITY = 50\n",
    "\tPRICE    = 50.50\n",
    "\tSTOCK  = true\n",
    ")"
   ]
  },
  {
   "attachments": {},
   "cell_type": "markdown",
   "metadata": {},
   "source": [
    "### Arithmetic operators"
   ]
  },
  {
   "cell_type": "code",
   "execution_count": null,
   "metadata": {},
   "outputs": [],
   "source": [
    "package main\n",
    "\n",
    "import \"fmt\"\n",
    "\n",
    "func main() {\n",
    "\tvar x, y = 35, 7\n",
    "\n",
    "\tfmt.Printf(\"x + y = %d\\n\", x+y)\n",
    "\tfmt.Printf(\"x - y = %d\\n\", x-y)\n",
    "\tfmt.Printf(\"x * y = %d\\n\", x*y)\n",
    "\tfmt.Printf(\"x / y = %d\\n\", x/y)\n",
    "\tfmt.Printf(\"x mod y = %d\\n\", x%y)\n",
    "\n",
    "\tx++\n",
    "\tfmt.Printf(\"x++ = %d\\n\", x)\n",
    "\n",
    "\ty--\n",
    "\tfmt.Printf(\"y-- = %d\\n\", y)\n",
    "}"
   ]
  },
  {
   "attachments": {},
   "cell_type": "markdown",
   "metadata": {},
   "source": [
    "### Comparison operators"
   ]
  },
  {
   "cell_type": "code",
   "execution_count": null,
   "metadata": {},
   "outputs": [],
   "source": [
    "package main\n",
    "\n",
    "import \"fmt\"\n",
    "\n",
    "func main() {\n",
    "\tvar x, y = 15, 25\n",
    "\n",
    "\tfmt.Println(x == y)\n",
    "\tfmt.Println(x != y)\n",
    "\tfmt.Println(x < y)\n",
    "\tfmt.Println(x <= y)\n",
    "\tfmt.Println(x > y)\n",
    "\tfmt.Println(x >= y)\n",
    "}"
   ]
  },
  {
   "attachments": {},
   "cell_type": "markdown",
   "metadata": {},
   "source": [
    "### Logical Operators"
   ]
  },
  {
   "cell_type": "code",
   "execution_count": null,
   "metadata": {},
   "outputs": [],
   "source": [
    "package main\n",
    "\n",
    "import \"fmt\"\n",
    "\n",
    "func main() {\n",
    "\tvar x, y, z = 10, 20, 30\n",
    "\n",
    "\tfmt.Println(x < y && x > z)\n",
    "\tfmt.Println(x < y || x > z)\n",
    "\tfmt.Println(!(x == y && x > z))\n",
    "}"
   ]
  },
  {
   "attachments": {},
   "cell_type": "markdown",
   "metadata": {},
   "source": [
    "### if else statements"
   ]
  },
  {
   "cell_type": "code",
   "execution_count": null,
   "metadata": {},
   "outputs": [],
   "source": [
    "package main\n",
    " \n",
    "import (\n",
    "\t\"fmt\"\n",
    ")\n",
    " \n",
    "func main() {\n",
    "\tx := 100\n",
    " \n",
    "\tif x == 50 {\n",
    "\t\tfmt.Println(\"Germany\")\n",
    "\t} else if x == 100 {\n",
    "\t\tfmt.Println(\"Japan\")\n",
    "\t} else {\n",
    "\t\tfmt.Println(\"Canada\")\n",
    "\t}\n",
    "}"
   ]
  },
  {
   "attachments": {},
   "cell_type": "markdown",
   "metadata": {},
   "source": [
    "### if else with initialization"
   ]
  },
  {
   "cell_type": "code",
   "execution_count": null,
   "metadata": {},
   "outputs": [],
   "source": [
    "package main\n",
    " \n",
    "import (\n",
    "\t\"fmt\"\n",
    ")\n",
    " \n",
    "func main() {\n",
    "\tif x := 100; x == 100 {\n",
    "\t\tfmt.Println(\"Germany\")\n",
    "\t}\n",
    "}"
   ]
  },
  {
   "attachments": {},
   "cell_type": "markdown",
   "metadata": {},
   "source": [
    "### Usual Switch case"
   ]
  },
  {
   "cell_type": "code",
   "execution_count": null,
   "metadata": {},
   "outputs": [],
   "source": [
    "package main\n",
    "import (\n",
    "\t\"fmt\"\n",
    "\t\"time\"\n",
    ")\n",
    " \n",
    "func main() {\n",
    "\ttoday := time.Now()\n",
    " \n",
    "\tswitch today.Day() {\n",
    "\tcase 5:\n",
    "\t\tfmt.Println(\"Today is 5th. Clean your house.\")\n",
    "\tcase 10:\n",
    "\t\tfmt.Println(\"Today is 10th. Buy some wine.\")\n",
    "\tcase 15:\n",
    "\t\tfmt.Println(\"Today is 15th. Visit a doctor.\")\n",
    "\tcase 25:\n",
    "\t\tfmt.Println(\"Today is 25th. Buy some food.\")\n",
    "\tcase 31:\n",
    "\t\tfmt.Println(\"Party tonight.\")\n",
    "\tdefault:\n",
    "\t\tfmt.Println(\"No information available for that day.\")\n",
    "\t}\n",
    "}"
   ]
  },
  {
   "attachments": {},
   "cell_type": "markdown",
   "metadata": {},
   "source": [
    "### switch case with multiple case line"
   ]
  },
  {
   "cell_type": "code",
   "execution_count": null,
   "metadata": {},
   "outputs": [],
   "source": [
    "package main\n",
    " \n",
    "import (\n",
    "\t\"fmt\"\n",
    "\t\"time\"\n",
    ")\n",
    " \n",
    "func main() {\n",
    "\ttoday := time.Now()\n",
    "\tvar t int = today.Day()\n",
    " \n",
    "\tswitch t {\n",
    "\tcase 5, 10, 15:\n",
    "\t\tfmt.Println(\"Clean your house.\")\n",
    "\tcase 25, 26, 27:\n",
    "\t\tfmt.Println(\"Buy some food.\")\n",
    "\tcase 31:\n",
    "\t\tfmt.Println(\"Party tonight.\")\n",
    "\tdefault:\n",
    "\t\tfmt.Println(\"No information available for that day.\")\n",
    "\t}\n",
    "}"
   ]
  },
  {
   "attachments": {},
   "cell_type": "markdown",
   "metadata": {},
   "source": [
    "### Switch case with fallthrough \n",
    "- it will also run the below on under the fallthrough"
   ]
  },
  {
   "cell_type": "code",
   "execution_count": null,
   "metadata": {},
   "outputs": [],
   "source": [
    "package main\n",
    " \n",
    "import (\n",
    "\t\"fmt\"\n",
    "\t\"time\"\n",
    ")\n",
    " \n",
    "func main() {\n",
    "\ttoday := time.Now()\n",
    " \n",
    "\tswitch today.Day() {\n",
    "\tcase 5:\n",
    "\t\tfmt.Println(\"Clean your house.\")\n",
    "\t\tfallthrough\n",
    "\tcase 10:\n",
    "\t\tfmt.Println(\"Buy some wine.\")\n",
    "\t\tfallthrough\n",
    "\tcase 15:\n",
    "\t\tfmt.Println(\"Visit a doctor.\")\n",
    "\t\tfallthrough\n",
    "\tcase 25:\n",
    "\t\tfmt.Println(\"Buy some food.\")\n",
    "\t\tfallthrough\n",
    "\tcase 31:\n",
    "\t\tfmt.Println(\"Party tonight.\")\n",
    "\tdefault:\n",
    "\t\tfmt.Println(\"No information available for that day.\")\n",
    "\t}\n",
    "}"
   ]
  },
  {
   "attachments": {},
   "cell_type": "markdown",
   "metadata": {},
   "source": [
    "### switch conditional cases"
   ]
  },
  {
   "cell_type": "code",
   "execution_count": null,
   "metadata": {},
   "outputs": [],
   "source": [
    "package main\n",
    " \n",
    "import (\n",
    "\t\"fmt\"\n",
    "\t\"time\"\n",
    ")\n",
    " \n",
    "func main() {\n",
    "\ttoday := time.Now()\n",
    " \n",
    "\tswitch {\n",
    "\tcase today.Day() < 5:\n",
    "\t\tfmt.Println(\"Clean your house.\")\n",
    "\tcase today.Day() <= 10:\n",
    "\t\tfmt.Println(\"Buy some wine.\")\n",
    "\tcase today.Day() > 15:\n",
    "\t\tfmt.Println(\"Visit a doctor.\")\n",
    "\tcase today.Day() == 25:\n",
    "\t\tfmt.Println(\"Buy some food.\")\n",
    "\tdefault:\n",
    "\t\tfmt.Println(\"No information available for that day.\")\n",
    "\t}\n",
    "}"
   ]
  },
  {
   "attachments": {},
   "cell_type": "markdown",
   "metadata": {},
   "source": [
    "### switch initializer statement"
   ]
  },
  {
   "cell_type": "code",
   "execution_count": null,
   "metadata": {},
   "outputs": [],
   "source": [
    "package main\n",
    " \n",
    "import (\n",
    "\t\"fmt\"\n",
    "\t\"time\"\n",
    ")\n",
    " \n",
    "func main() {\n",
    "\tswitch today := time.Now(); {\n",
    "\tcase today.Day() < 5:\n",
    "\t\tfmt.Println(\"Clean your house.\")\n",
    "\tcase today.Day() <= 10:\n",
    "\t\tfmt.Println(\"Buy some wine.\")\n",
    "\tcase today.Day() > 15:\n",
    "\t\tfmt.Println(\"Visit a doctor.\")\n",
    "\tcase today.Day() == 25:\n",
    "\t\tfmt.Println(\"Buy some food.\")\n",
    "\tdefault:\n",
    "\t\tfmt.Println(\"No information available for that day.\")\n",
    "\t}\n",
    "}"
   ]
  },
  {
   "attachments": {},
   "cell_type": "markdown",
   "metadata": {},
   "source": [
    "### for loop\n",
    "- initialization ; validation ; operation"
   ]
  },
  {
   "cell_type": "code",
   "execution_count": null,
   "metadata": {},
   "outputs": [],
   "source": [
    "package main\n",
    " \n",
    "import \"fmt\"\n",
    " \n",
    "func main() {\n",
    " \n",
    "\tk := 1\n",
    "\tfor ; k <= 10; k++ {\n",
    "\t\tfmt.Println(k)\n",
    "\t}\n",
    " \n",
    "\tk = 1\n",
    "\tfor k <= 10 {\n",
    "\t\tfmt.Println(k)\n",
    "\t\tk++\n",
    "\t}\n",
    " \n",
    "\tfor k := 1; ; k++ {\n",
    "\t\tfmt.Println(k)\n",
    "\t\tif k == 10 {\n",
    "\t\t\tbreak\n",
    "\t\t}\n",
    "\t}\n",
    "}"
   ]
  },
  {
   "attachments": {},
   "cell_type": "markdown",
   "metadata": {},
   "source": [
    "### forloop (slice and map)"
   ]
  },
  {
   "cell_type": "code",
   "execution_count": null,
   "metadata": {},
   "outputs": [],
   "source": [
    "package main\n",
    " \n",
    "import \"fmt\"\n",
    " \n",
    "func main() {\n",
    " \n",
    "\t// Example 1\n",
    "\tstrDict := map[string]string{\"Japan\": \"Tokyo\", \"China\": \"Beijing\", \"Canada\": \"Ottawa\"}\n",
    "\tfor index, element := range strDict {\n",
    "\t\tfmt.Println(\"Index :\", index, \" Element :\", element)\n",
    "\t}\n",
    " \n",
    "\t// Example 2\n",
    "\tfor key := range strDict {\n",
    "\t\tfmt.Println(key)\n",
    "\t}\n",
    " \n",
    "\t// Example 3\n",
    "\tfor _, value := range strDict {\n",
    "\t\tfmt.Println(value)\n",
    "\t}\n",
    "}"
   ]
  },
  {
   "attachments": {},
   "cell_type": "markdown",
   "metadata": {},
   "source": [
    "### forloop string range"
   ]
  },
  {
   "cell_type": "code",
   "execution_count": null,
   "metadata": {},
   "outputs": [],
   "source": [
    "package main\n",
    " \n",
    "import \"fmt\"\n",
    " \n",
    "func main() {\n",
    "\tfor range \"Hello\" {\n",
    "\t\tfmt.Println(\"Hello\")\n",
    "\t}\n",
    "}"
   ]
  },
  {
   "attachments": {},
   "cell_type": "markdown",
   "metadata": {},
   "source": [
    "### forloop infinite loop"
   ]
  },
  {
   "cell_type": "code",
   "execution_count": null,
   "metadata": {},
   "outputs": [],
   "source": [
    "package main\n",
    " \n",
    "import \"fmt\"\n",
    " \n",
    "func main() {\n",
    "\ti := 5\n",
    "\tfor {\n",
    "\t\tfmt.Println(\"Hello\")\n",
    "\t\tif i == 10 {\n",
    "\t\t\tbreak\n",
    "\t\t}\n",
    "\t\ti++\n",
    "\t}\n",
    "}"
   ]
  },
  {
   "attachments": {},
   "cell_type": "markdown",
   "metadata": {},
   "source": [
    "### simple function with return"
   ]
  },
  {
   "cell_type": "code",
   "execution_count": null,
   "metadata": {},
   "outputs": [],
   "source": [
    "package main\n",
    "\n",
    "import \"fmt\"\n",
    "\n",
    "// Function with int as return type\n",
    "func add(x int, y int) int {\n",
    "\ttotal := 0\n",
    "\ttotal = x + y\n",
    "\treturn total\n",
    "}\n",
    "\n",
    "func main() {\n",
    "\t// Accepting return value in varaible\n",
    "\tsum := add(20, 30)\n",
    "\tfmt.Println(sum)\n",
    "}"
   ]
  },
  {
   "attachments": {},
   "cell_type": "markdown",
   "metadata": {},
   "source": [
    "### simple function without specifying the return name"
   ]
  },
  {
   "cell_type": "code",
   "execution_count": null,
   "metadata": {},
   "outputs": [],
   "source": [
    "package main\n",
    "\n",
    "import \"fmt\"\n",
    "\n",
    "func rectangle(l int, b int) (area int) {\n",
    "\tvar parameter int\n",
    "\tparameter = 2 * (l + b)\n",
    "\tfmt.Println(\"Parameter: \", parameter)\n",
    "\n",
    "\tarea = l * b\n",
    "\treturn // Return statement without specify variable name\n",
    "}\n",
    "\n",
    "func main() {\n",
    "\tfmt.Println(\"Area: \", rectangle(20, 30))\n",
    "}"
   ]
  },
  {
   "attachments": {},
   "cell_type": "markdown",
   "metadata": {},
   "source": [
    "### function returns multiple values"
   ]
  },
  {
   "cell_type": "code",
   "execution_count": null,
   "metadata": {},
   "outputs": [],
   "source": [
    "package main\n",
    "\n",
    "import \"fmt\"\n",
    "\n",
    "func rectangle(l int, b int) (area int, parameter int) {\n",
    "\tparameter = 2 * (l + b)\n",
    "\tarea = l * b\n",
    "\treturn // Return statement without specify variable name\n",
    "}\n",
    "\n",
    "func main() {\n",
    "\tvar a, p int\n",
    "\ta, p = rectangle(20, 30)\n",
    "\tfmt.Println(\"Area:\", a)\n",
    "\tfmt.Println(\"Parameter:\", p)\n",
    "}"
   ]
  },
  {
   "attachments": {},
   "cell_type": "markdown",
   "metadata": {},
   "source": [
    "### passing addresses to a function"
   ]
  },
  {
   "cell_type": "code",
   "execution_count": null,
   "metadata": {},
   "outputs": [],
   "source": [
    "package main\n",
    "\n",
    "import \"fmt\"\n",
    "\n",
    "func update(a *int, t *string) {\n",
    "\t*a = *a + 5      // defrencing pointer address\n",
    "\t*t = *t + \" Doe\" // defrencing pointer address\n",
    "\treturn\n",
    "}\n",
    "\n",
    "func main() {\n",
    "\tvar age = 20\n",
    "\tvar text = \"John\"\n",
    "\tfmt.Println(\"Before:\", text, age)\n",
    "\n",
    "\tupdate(&age, &text)\n",
    "\n",
    "\tfmt.Println(\"After :\", text, age)\n",
    "}"
   ]
  },
  {
   "attachments": {},
   "cell_type": "markdown",
   "metadata": {},
   "source": [
    "### anonymous function assigned to variable"
   ]
  },
  {
   "cell_type": "code",
   "execution_count": null,
   "metadata": {},
   "outputs": [],
   "source": [
    "package main\n",
    "\n",
    "import \"fmt\"\n",
    "\n",
    "var (\n",
    "\tarea = func(l int, b int) int {\n",
    "\t\treturn l * b\n",
    "\t}\n",
    ")\n",
    "\n",
    "func main() {\n",
    "\tfmt.Println(area(20, 30))\n",
    "}"
   ]
  },
  {
   "attachments": {},
   "cell_type": "markdown",
   "metadata": {},
   "source": [
    "### anonymous function without name"
   ]
  },
  {
   "cell_type": "code",
   "execution_count": null,
   "metadata": {},
   "outputs": [],
   "source": [
    "package main\n",
    "\n",
    "import \"fmt\"\n",
    "\n",
    "func main() {\n",
    "\tfunc(l int, b int) {\n",
    "\t\tfmt.Println(l * b)\n",
    "\t}(20, 30)\n",
    "}"
   ]
  },
  {
   "attachments": {},
   "cell_type": "markdown",
   "metadata": {},
   "source": [
    "### writing a function inside print statement"
   ]
  },
  {
   "cell_type": "code",
   "execution_count": null,
   "metadata": {},
   "outputs": [],
   "source": [
    "package main\n",
    "\n",
    "import \"fmt\"\n",
    "\n",
    "func main() {\n",
    "\tfmt.Printf(\n",
    "\t\t\"100 (°F) = %.2f (°C)\\n\",\n",
    "\t\tfunc(f float64) float64 {\n",
    "\t\t\treturn (f - 32.0) * (5.0 / 9.0)\n",
    "\t\t}(100),\n",
    "\t)\n",
    "}"
   ]
  },
  {
   "attachments": {},
   "cell_type": "markdown",
   "metadata": {},
   "source": [
    "### closure function\n",
    "- if a anonymous function accesses a variables declared outside of the function"
   ]
  },
  {
   "cell_type": "code",
   "execution_count": null,
   "metadata": {},
   "outputs": [],
   "source": [
    "package main\n",
    "\n",
    "import \"fmt\"\n",
    "\n",
    "func main() {\n",
    "\tl := 20\n",
    "\tb := 30\n",
    "\n",
    "\tfunc() {\n",
    "\t\tvar area int\n",
    "\t\tarea = l * b\n",
    "\t\tfmt.Println(area)\n",
    "\t}()\n",
    "}"
   ]
  },
  {
   "attachments": {},
   "cell_type": "markdown",
   "metadata": {},
   "source": [
    "### Higher order function\n",
    "- if a function takes function as input and returns a function as output "
   ]
  },
  {
   "cell_type": "code",
   "execution_count": null,
   "metadata": {},
   "outputs": [],
   "source": [
    "package main\n",
    "\n",
    "import \"fmt\"\n",
    "\n",
    "func sum(x, y int) int {\n",
    "\treturn x + y\n",
    "}\n",
    "func partialSum(x int) func(int) int {\n",
    "\treturn func(y int) int {\n",
    "\t\treturn sum(x, y)\n",
    "\t}\n",
    "}\n",
    "func main() {\n",
    "\tpartial := partialSum(3)\n",
    "\tfmt.Println(partial(7))\n",
    "}"
   ]
  },
  {
   "attachments": {},
   "cell_type": "markdown",
   "metadata": {},
   "source": [
    "### HOF with multiple function level"
   ]
  },
  {
   "cell_type": "code",
   "execution_count": null,
   "metadata": {},
   "outputs": [],
   "source": [
    "package main\n",
    "\n",
    "import \"fmt\"\n",
    "\n",
    "func squareSum(x int) func(int) func(int) int {\n",
    "\treturn func(y int) func(int) int {\n",
    "\t\treturn func(z int) int {\n",
    "\t\t\treturn x*x + y*y + z*z\n",
    "\t\t}\n",
    "\t}\n",
    "}\n",
    "func main() {\n",
    "\t// 5*5 + 6*6 + 7*7\n",
    "\tfmt.Println(squareSum(5)(6)(7))\n",
    "}"
   ]
  },
  {
   "attachments": {},
   "cell_type": "markdown",
   "metadata": {},
   "source": [
    "### user defined function"
   ]
  },
  {
   "cell_type": "code",
   "execution_count": null,
   "metadata": {},
   "outputs": [],
   "source": [
    "package main\n",
    "\n",
    "import \"fmt\"\n",
    "\n",
    "type First func(int) int\n",
    "type Second func(int) First\n",
    "\n",
    "func squareSum(x int) Second {\n",
    "\treturn func(y int) First {\n",
    "\t\treturn func(z int) int {\n",
    "\t\t\treturn x*x + y*y + z*z\n",
    "\t\t}\n",
    "\t}\n",
    "}\n",
    "\n",
    "func main() {\n",
    "\t// 5*5 + 6*6 + 7*7\n",
    "\tfmt.Println(squareSum(5)(6)(7))\n",
    "}"
   ]
  },
  {
   "attachments": {},
   "cell_type": "markdown",
   "metadata": {},
   "source": [
    "### variadic function with same datatype"
   ]
  },
  {
   "cell_type": "code",
   "execution_count": null,
   "metadata": {},
   "outputs": [],
   "source": [
    "package main\n",
    "\n",
    "import \"fmt\"\n",
    "\n",
    "func main() {\n",
    "\t\n",
    "\tvariadicExample()\n",
    "\tvariadicExample(\"red\", \"blue\")\n",
    "\tvariadicExample(\"red\", \"blue\", \"green\")\n",
    "\tvariadicExample(\"red\", \"blue\", \"green\", \"yellow\")\n",
    "}\n",
    "\n",
    "func variadicExample(s ...string) {\n",
    "\tfmt.Println(s)\n",
    "}"
   ]
  },
  {
   "attachments": {},
   "cell_type": "markdown",
   "metadata": {},
   "source": [
    "### variadic passing various data types"
   ]
  },
  {
   "cell_type": "code",
   "execution_count": null,
   "metadata": {},
   "outputs": [],
   "source": [
    "package main\n",
    "\n",
    "import \"fmt\"\n",
    "\n",
    "func main() {\n",
    "\tfmt.Println(calculation(\"Rectangle\", 20, 30))\n",
    "\tfmt.Println(calculation(\"Square\", 20))\n",
    "}\n",
    "\n",
    "func calculation(str string, y ...int) int {\n",
    "\n",
    "\tarea := 1\n",
    "\n",
    "\tfor _, val := range y {\n",
    "\t\tif str == \"Rectangle\" {\n",
    "\t\t\tarea *= val\n",
    "\t\t} else if str == \"Square\" {\n",
    "\t\t\tarea = val * val\n",
    "\t\t}\n",
    "\t}\n",
    "\treturn area\n",
    "}"
   ]
  },
  {
   "attachments": {},
   "cell_type": "markdown",
   "metadata": {},
   "source": [
    "### variadic receive unknown data types\n",
    "- use a interface"
   ]
  },
  {
   "cell_type": "code",
   "execution_count": null,
   "metadata": {},
   "outputs": [],
   "source": [
    "package main\n",
    "\n",
    "import (\n",
    "\t\"fmt\"\n",
    "\t\"reflect\"\n",
    ")\n",
    "\n",
    "func main() {\n",
    "\tvariadicExample(1, \"red\", true, 10.5, []string{\"foo\", \"bar\", \"baz\"},\n",
    "\t\tmap[string]int{\"apple\": 23, \"tomato\": 13})\n",
    "}\n",
    "\n",
    "func variadicExample(i ...interface{}) {\n",
    "\tfor _, v := range i {\n",
    "\t\tfmt.Println(v, \"--\", reflect.ValueOf(v).Kind())\n",
    "\t}\n",
    "}"
   ]
  },
  {
   "attachments": {},
   "cell_type": "markdown",
   "metadata": {},
   "source": [
    "### defer function\n",
    "- if you want some function to execute at the end "
   ]
  },
  {
   "cell_type": "code",
   "execution_count": null,
   "metadata": {},
   "outputs": [],
   "source": [
    "package main\n",
    "import \"fmt\"\n",
    "func first() {\n",
    "\tfmt.Println(\"First\")\n",
    "}\n",
    "func second() {\n",
    "\tfmt.Println(\"Second\")\n",
    "}\n",
    "func main() {\n",
    "\tdefer second()\n",
    "\tfirst()\n",
    "}"
   ]
  },
  {
   "attachments": {},
   "cell_type": "markdown",
   "metadata": {},
   "source": [
    "### defered function example with multiple defer\n",
    "- the first declared defer will execute at the end"
   ]
  },
  {
   "cell_type": "code",
   "execution_count": null,
   "metadata": {},
   "outputs": [],
   "source": [
    "package main\n",
    "import \"fmt\"\n",
    "func main() {\n",
    "\tfor i := 0; i < 5; i++ {\n",
    "\t\tdefer fmt.Printf(\"%d \", i)\n",
    "\t}\n",
    "}"
   ]
  },
  {
   "attachments": {},
   "cell_type": "markdown",
   "metadata": {},
   "source": [
    "### panic\n",
    "- used when you need to stop the program for any reason"
   ]
  },
  {
   "cell_type": "code",
   "execution_count": null,
   "metadata": {},
   "outputs": [],
   "source": [
    "package main\n",
    "\n",
    "import (\n",
    "\t\"errors\"\n",
    "\t\"fmt\"\n",
    ")\n",
    "\n",
    "var result = 1\n",
    "\n",
    "func chain(n int) {\n",
    "\tif n == 0 {\n",
    "\t\tpanic(errors.New(\"Cannot multiply a number by zero\"))\n",
    "\t} else {\n",
    "\t\tresult *= n\n",
    "\t\tfmt.Println(\"Output: \", result)\n",
    "\t}\n",
    "}\n",
    "\n",
    "func main() {\n",
    "\tchain(5)\n",
    "\tchain(2)\n",
    "\tchain(0)\n",
    "\tchain(8)\n",
    "}"
   ]
  },
  {
   "attachments": {},
   "cell_type": "markdown",
   "metadata": {},
   "source": [
    "### recover from panic\n",
    "- used to recover from a panic , it handles the panic and continue the execution"
   ]
  },
  {
   "cell_type": "code",
   "execution_count": null,
   "metadata": {},
   "outputs": [],
   "source": [
    "package main\n",
    "\n",
    "import (\n",
    "\t\"errors\"\n",
    "\t\"fmt\"\n",
    ")\n",
    "\n",
    "var result = 1\n",
    "\n",
    "func chain(n int) {\n",
    "\tdefer func() {\n",
    "\t\tif r := recover(); r != nil {\n",
    "\t\t\tfmt.Println(r)\n",
    "\t\t}\n",
    "\t}()\n",
    "\n",
    "\tif n == 0 {\n",
    "\t\tpanic(errors.New(\"Cannot multiply a number by zero\"))\n",
    "\t} else {\n",
    "\t\tresult *= n\n",
    "\t\tfmt.Println(\"Output: \", result)\n",
    "\t}\n",
    "}\n",
    "\n",
    "func main() {\n",
    "\tchain(5)\n",
    "\tchain(2)\n",
    "\tchain(0)\n",
    "\tchain(8)\n",
    "}"
   ]
  },
  {
   "attachments": {},
   "cell_type": "markdown",
   "metadata": {},
   "source": [
    "### Array"
   ]
  },
  {
   "cell_type": "code",
   "execution_count": null,
   "metadata": {},
   "outputs": [],
   "source": [
    "## declaring\n",
    "var intArray [5]int\n",
    "var strArray [5]string\n",
    "\n",
    "\n",
    "## assigning values\n",
    "var theArray [3]string\n",
    "theArray[0] = \"India\"  // Assign a value to the first element\n",
    "theArray[1] = \"Canada\" // Assign a value to the second element\n",
    "theArray[2] = \"Japan\"  // Assign a value to the third element\n",
    "\n",
    "\n",
    "## types of initialization\n",
    "x := [5]int{10, 20, 30, 40, 50}   // Intialized with values\n",
    "var y [5]int = [5]int{10, 20, 30} // Partial assignment\n",
    "\n",
    "\n",
    "## when the size is unknown\n",
    "x := [...]int{10, 20, 30}\n",
    "\n",
    "\n",
    "## initialize based on index number\n",
    "x := [5]int{1: 10, 3: 30}\n",
    "\n",
    "\n",
    "## copy an array\n",
    "strArray1 := [3]string{\"Japan\", \"Australia\", \"Germany\"}\n",
    "strArray2 := strArray1  // data is passed by value\n",
    "strArray3 := &strArray1 // data is passed by refrence\n",
    "\n",
    "\n",
    "## array slicing\n",
    "countries := [...]string{\"India\", \"Canada\", \"Japan\", \"Germany\", \"Italy\"}\n",
    "\n",
    "fmt.Printf(\"Countries: %v\\n\", countries)\n",
    "fmt.Printf(\":2 %v\\n\", countries[:2])\n",
    "fmt.Printf(\"1:3 %v\\n\", countries[1:3])\n",
    "fmt.Printf(\"2: %v\\n\", countries[2:])\n",
    "\n",
    "\n",
    "## print len of array\n",
    "fmt.Println(len(countries))"
   ]
  },
  {
   "attachments": {},
   "cell_type": "markdown",
   "metadata": {},
   "source": [
    "### methods to loop through an array"
   ]
  },
  {
   "cell_type": "code",
   "execution_count": null,
   "metadata": {},
   "outputs": [],
   "source": [
    "package main\n",
    "\n",
    "import \"fmt\"\n",
    "\n",
    "func main() {\n",
    "\tintArray := [5]int{10, 20, 30, 40, 50}\n",
    "\n",
    "\tfmt.Println(\"\\n---------------Example 1--------------------\\n\")\n",
    "\tfor i := 0; i < len(intArray); i++ {\n",
    "\t\tfmt.Println(intArray[i])\n",
    "\t}\n",
    "\n",
    "\tfmt.Println(\"\\n---------------Example 2--------------------\\n\")\n",
    "\tfor index, element := range intArray {\n",
    "\t\tfmt.Println(index, \"=>\", element)\n",
    "\n",
    "\t}\n",
    "\n",
    "\tfmt.Println(\"\\n---------------Example 3--------------------\\n\")\n",
    "\tfor _, value := range intArray {\n",
    "\t\tfmt.Println(value)\n",
    "\t}\n",
    "\n",
    "\tj := 0\n",
    "\tfmt.Println(\"\\n---------------Example 4--------------------\\n\")\n",
    "\tfor range intArray {\n",
    "\t\tfmt.Println(intArray[j])\n",
    "\t\tj++\n",
    "\t}\n",
    "}"
   ]
  },
  {
   "attachments": {},
   "cell_type": "markdown",
   "metadata": {},
   "source": [
    "### Slice"
   ]
  },
  {
   "cell_type": "code",
   "execution_count": null,
   "metadata": {},
   "outputs": [],
   "source": [
    "## initialize slice\n",
    "var intSlice []int\n",
    "var strSlice []string\n",
    "\n",
    "\n",
    "## initialize using make\n",
    "var intSlice = make([]int, 10)        // when length and capacity is same\n",
    "var strSlice = make([]string, 10, 20) // when length and capacity is different\n",
    "\n",
    "\n",
    "## print len and cap\n",
    "fmt.Printf(\"intSlice \\tLen: %v \\tCap: %v\\n\", len(intSlice), cap(intSlice))\n",
    "\n",
    "\n",
    "## initialize with values\n",
    "var intSlice = []int{10, 20, 30, 40}\n",
    "var strSlice = []string{\"India\", \"Canada\", \"Japan\"}\n",
    "\n",
    "\n",
    "## initialize using new keyword\n",
    "var intSlice = new([50]int)[0:10]   // inside the square bracket is capacity , cap is 50 and len is 10\n",
    "\n",
    "\n",
    "## adding items in slice  (capacity will automatically increase if you add items)\n",
    "a := make([]int, 2, 5)\n",
    "a[0] = 10\n",
    "a[1] = 20   // add using indexing\n",
    "\n",
    "a = append(a, 30, 40, 50, 60, 70, 80, 90) // append function\n",
    "\n",
    "\n",
    "\n",
    "## accessing items\n",
    "var intSlice = []int{10, 20, 30, 40}\n",
    "\n",
    "fmt.Println(intSlice[0])\n",
    "fmt.Println(intSlice[1])\n",
    "fmt.Println(intSlice[0:4])\n",
    "\n",
    "\n",
    "## change item value\n",
    "var strSlice = []string{\"India\", \"Canada\", \"Japan\"}\n",
    "fmt.Println(strSlice)\n",
    "\n",
    "strSlice[2] = \"Germany\"\n",
    "fmt.Println(strSlice)\n",
    "\n",
    "\n",
    "## copy function used to copy a slice\n",
    "a := []int{5, 6, 7} // Create a smaller slice\n",
    "fmt.Printf(\"[Slice:A] Length is %d Capacity is %d\\n\", len(a), cap(a))\n",
    "\n",
    "b := make([]int, 5, 10) // Create a bigger slice\n",
    "copy(b, a)              // Copy function\n",
    "fmt.Printf(\"[Slice:B] Length is %d Capacity is %d\\n\", len(b), cap(b))\n",
    "\n",
    "\n",
    "## appending a slice to another slice\n",
    "var slice1 = []string{\"india\", \"japan\", \"canada\"}\n",
    "var slice2 = []string{\"australia\", \"russia\"}\n",
    "\n",
    "slice2 = append(slice2, slice1...)\n"
   ]
  },
  {
   "attachments": {},
   "cell_type": "markdown",
   "metadata": {},
   "source": [
    "### remove item from a slice\n",
    "- you have to slice and append the slice"
   ]
  },
  {
   "cell_type": "code",
   "execution_count": null,
   "metadata": {},
   "outputs": [],
   "source": [
    "package main\n",
    "\n",
    "import \"fmt\"\n",
    "\n",
    "func main() {\n",
    "\tvar strSlice = []string{\"India\", \"Canada\", \"Japan\", \"Germany\", \"Italy\"}\n",
    "\tfmt.Println(strSlice)\n",
    "\n",
    "\tstrSlice = RemoveIndex(strSlice, 3)\n",
    "\tfmt.Println(strSlice)\n",
    "}\n",
    "\n",
    "func RemoveIndex(s []string, index int) []string {\n",
    "\treturn append(s[:index], s[index+1:]...)\n",
    "}"
   ]
  },
  {
   "cell_type": "code",
   "execution_count": null,
   "metadata": {},
   "outputs": [],
   "source": []
  },
  {
   "cell_type": "code",
   "execution_count": null,
   "metadata": {},
   "outputs": [],
   "source": []
  },
  {
   "cell_type": "code",
   "execution_count": null,
   "metadata": {},
   "outputs": [],
   "source": []
  },
  {
   "cell_type": "code",
   "execution_count": null,
   "metadata": {},
   "outputs": [],
   "source": []
  },
  {
   "cell_type": "code",
   "execution_count": null,
   "metadata": {},
   "outputs": [],
   "source": []
  },
  {
   "cell_type": "code",
   "execution_count": null,
   "metadata": {},
   "outputs": [],
   "source": []
  },
  {
   "cell_type": "code",
   "execution_count": null,
   "metadata": {},
   "outputs": [],
   "source": []
  },
  {
   "cell_type": "code",
   "execution_count": null,
   "metadata": {},
   "outputs": [],
   "source": []
  },
  {
   "cell_type": "code",
   "execution_count": null,
   "metadata": {},
   "outputs": [],
   "source": []
  },
  {
   "cell_type": "code",
   "execution_count": null,
   "metadata": {},
   "outputs": [],
   "source": []
  },
  {
   "cell_type": "code",
   "execution_count": null,
   "metadata": {},
   "outputs": [],
   "source": []
  },
  {
   "cell_type": "code",
   "execution_count": null,
   "metadata": {},
   "outputs": [],
   "source": []
  },
  {
   "cell_type": "code",
   "execution_count": null,
   "metadata": {},
   "outputs": [],
   "source": []
  },
  {
   "attachments": {},
   "cell_type": "markdown",
   "metadata": {},
   "source": [
    "### DNS records fetching"
   ]
  },
  {
   "cell_type": "code",
   "execution_count": null,
   "metadata": {},
   "outputs": [],
   "source": [
    "package dns_rec\n",
    "\n",
    "import (\n",
    "\t\"fmt\"\n",
    "\t\"net\"\n",
    ")\n",
    "\n",
    "func DNSrec(){\n",
    "\tipRec,_ := net.LookupAddr(\"107.180.100.56\")\n",
    "\tfor _,ip := range ipRec{\n",
    "\t\tfmt.Println(ip)\n",
    "\t}\n",
    "}"
   ]
  },
  {
   "cell_type": "code",
   "execution_count": null,
   "metadata": {},
   "outputs": [],
   "source": []
  },
  {
   "cell_type": "code",
   "execution_count": null,
   "metadata": {},
   "outputs": [],
   "source": []
  },
  {
   "cell_type": "code",
   "execution_count": null,
   "metadata": {},
   "outputs": [],
   "source": []
  },
  {
   "cell_type": "code",
   "execution_count": null,
   "metadata": {},
   "outputs": [],
   "source": []
  }
 ],
 "metadata": {
  "kernelspec": {
   "display_name": "Python 3",
   "language": "python",
   "name": "python3"
  },
  "language_info": {
   "codemirror_mode": {
    "name": "ipython",
    "version": 3
   },
   "file_extension": ".py",
   "mimetype": "text/x-python",
   "name": "python",
   "nbconvert_exporter": "python",
   "pygments_lexer": "ipython3",
   "version": "3.7.9"
  },
  "orig_nbformat": 4,
  "vscode": {
   "interpreter": {
    "hash": "c95ce671dc85a02f7dcb4a82e6ee0dd46a02f5d9b011cb4af12808a4af6c4059"
   }
  }
 },
 "nbformat": 4,
 "nbformat_minor": 2
}
